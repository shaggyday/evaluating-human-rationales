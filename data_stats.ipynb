{
 "cells": [
  {
   "cell_type": "code",
   "execution_count": 1,
   "metadata": {},
   "outputs": [],
   "source": [
    "import pandas as pd\n",
    "import os\n",
    "def avg(l): return sum(l)/len(l)\n",
    "\n",
    "'''\n",
    "counts the length of rationales\n",
    "'''\n",
    "def count_rationale_length(df, batch=True):\n",
    "    if batch:\n",
    "        rationale_dict = {}\n",
    "        for doc_evidences in df['evidences']:\n",
    "            for evidence in doc_evidences:\n",
    "                evidence = evidence[0]\n",
    "                rationale_length = evidence['end_token'] - evidence['start_token']\n",
    "                assert (rationale_length == len(evidence['text'].split()))\n",
    "                doc_id = evidence['docid']\n",
    "                if doc_id not in rationale_dict.keys(): rationale_dict[doc_id] = rationale_length\n",
    "                else: rationale_dict[doc_id] += rationale_length\n",
    "        return list(rationale_dict.values())\n",
    "    else:\n",
    "        rationale_len = []\n",
    "        for doc_evidences in df['evidences']:\n",
    "            for evidence in doc_evidences:\n",
    "                rationale_length = evidence[0]['end_token'] - evidence[0]['start_token']\n",
    "                assert (rationale_length == len(evidence[0]['text'].split()))\n",
    "                rationale_len.append(rationale_length)\n",
    "        return rationale_len\n",
    "\n",
    "'''\n",
    "counts the average length of the text files\n",
    "'''\n",
    "def count_text_length(doc_path):\n",
    "    def count_file_length(file):\n",
    "        f = open(file, 'rb')   \n",
    "        text_length = 0\n",
    "        for line in f.readlines():\n",
    "            text_length += len(line.rstrip().split())\n",
    "        return text_length\n",
    "\n",
    "    text_dict = {}\n",
    "    data_dir = directory + 'docs'\n",
    "    for filename in os.listdir(data_dir):\n",
    "        f = os.path.join(data_dir, filename)\n",
    "        if os.path.isfile(f):\n",
    "            text_dict[filename] = count_file_length(f)\n",
    "    text_lengths = list(text_dict.values())\n",
    "#     return avg(text_lengths)\n",
    "    return text_lengths"
   ]
  },
  {
   "cell_type": "code",
   "execution_count": 23,
   "metadata": {},
   "outputs": [],
   "source": [
    "'''\n",
    "counts the length of rationales\n",
    "'''\n",
    "def count_rationale_len_multirc(df, batch=False):\n",
    "    if batch:\n",
    "        rationale_dict = {}\n",
    "        for doc_evidences in df['evidences']:\n",
    "            for evidence in doc_evidences:\n",
    "                if type(evidence) is not dict:\n",
    "                    evidence = evidence[0]\n",
    "                    \n",
    "                rationale_length = evidence['end_token'] - evidence['start_token']\n",
    "                assert (rationale_length == len(evidence['text'].split()))\n",
    "                \n",
    "                doc_id = evidence['docid']\n",
    "                if doc_id not in rationale_dict.keys(): rationale_dict[doc_id] = rationale_length\n",
    "                else: rationale_dict[doc_id] += rationale_length\n",
    "        return list(rationale_dict.values())\n",
    "    else:\n",
    "        rationale_len = []\n",
    "        for doc_evidences in df['evidences']:\n",
    "            for evidence in doc_evidences:\n",
    "                if type(evidence) is not dict:\n",
    "                    evidence = evidence[0]\n",
    "                    \n",
    "                rationale_length = evidence['end_token'] - evidence['start_token']\n",
    "                assert (rationale_length == len(evidence['text'].split()))\n",
    "                rationale_len.append(rationale_length)\n",
    "\n",
    "                return rationale_len"
   ]
  },
  {
   "cell_type": "code",
   "execution_count": 2,
   "metadata": {},
   "outputs": [],
   "source": [
    "dataset = \"scifact\""
   ]
  },
  {
   "cell_type": "code",
   "execution_count": 3,
   "metadata": {},
   "outputs": [],
   "source": [
    "directory = f'data/{dataset}/'\n",
    "train_f_suffix = 'train'\n",
    "test_f_suffix = 'test'\n",
    "val_f_suffix = 'val'"
   ]
  },
  {
   "cell_type": "code",
   "execution_count": 4,
   "metadata": {},
   "outputs": [],
   "source": [
    "train = pd.read_json(directory + train_f_suffix + '.jsonl', lines=True)\n",
    "# train.info()"
   ]
  },
  {
   "cell_type": "code",
   "execution_count": 5,
   "metadata": {},
   "outputs": [],
   "source": [
    "test = pd.read_json(directory + test_f_suffix + '.jsonl', lines=True)\n",
    "# test.info()"
   ]
  },
  {
   "cell_type": "code",
   "execution_count": 6,
   "metadata": {},
   "outputs": [],
   "source": [
    "val = pd.read_json(directory + val_f_suffix + '.jsonl', lines=True)\n",
    "# val.info()"
   ]
  },
  {
   "cell_type": "code",
   "execution_count": 7,
   "metadata": {},
   "outputs": [],
   "source": [
    "t = count_text_length(1)"
   ]
  },
  {
   "cell_type": "code",
   "execution_count": 12,
   "metadata": {},
   "outputs": [
    {
     "data": {
      "text/plain": [
       "78.57672849915683"
      ]
     },
     "execution_count": 12,
     "metadata": {},
     "output_type": "execute_result"
    }
   ],
   "source": [
    "train_dict = count_rationale_length(train)\n",
    "test_dict = count_rationale_length(test)\n",
    "val_dict = count_rationale_length(val)\n",
    "\n",
    "# rationale_dict = {**train_dict, **test_dict, **val_dict}\n",
    "# rationale_len = list(rationale_dict.values())\n",
    "rationale_len = train_dict + test_dict + val_dict\n",
    "avg(rationale_len)"
   ]
  },
  {
   "cell_type": "code",
   "execution_count": 148,
   "metadata": {},
   "outputs": [],
   "source": [
    "def build_rationale_dict(df):\n",
    "    rationale_dicts = []\n",
    "    for i in range(len(df)):\n",
    "        row = df.loc[i]\n",
    "        classification = row['classification']\n",
    "        for rationale in row['evidences']:\n",
    "            rationale = rationale[0]\n",
    "            text = rationale['text']\n",
    "            doc_id = rationale['docid']\n",
    "            rationale_length = rationale['end_token'] - rationale['start_token']\n",
    "            assert (rationale_length == len(text.split()))\n",
    "            rationale_dicts.append({'text':text, 'doc_id':doc_id, 'rationale_length':rationale_length, 'class':classification})\n",
    "            \n",
    "    return rationale_dicts\n",
    "\n",
    "rationale_dicts = build_rationale_dict(train) + build_rationale_dict(test) + build_rationale_dict(val)\n",
    "\n",
    "neg_lengths = []\n",
    "pos_lengths = []\n",
    "neg_ratios = []\n",
    "pos_ratios = []\n",
    "for rationale in rationale_dicts:\n",
    "    text_len = text_dict[rationale['doc_id']]\n",
    "    rationale_len = rationale['rationale_length']\n",
    "    ratio = rationale_len/text_len\n",
    "    if rationale['class'] == 'REFUTES': \n",
    "        neg_lengths.append(rationale_len)\n",
    "        neg_ratios.append(ratio)\n",
    "    else: \n",
    "        pos_lengths.append(rationale_len)\n",
    "        pos_ratios.append(ratio)"
   ]
  },
  {
   "cell_type": "code",
   "execution_count": 146,
   "metadata": {},
   "outputs": [
    {
     "data": {
      "text/plain": [
       "0.1428665268469391"
      ]
     },
     "execution_count": 146,
     "metadata": {},
     "output_type": "execute_result"
    }
   ],
   "source": [
    "avg(pos_ratios)"
   ]
  },
  {
   "cell_type": "code",
   "execution_count": 54,
   "metadata": {},
   "outputs": [
    {
     "data": {
      "text/plain": [
       "0.09976097922381488"
      ]
     },
     "execution_count": 54,
     "metadata": {},
     "output_type": "execute_result"
    }
   ],
   "source": [
    "avg(neg_ratio)"
   ]
  },
  {
   "cell_type": "code",
   "execution_count": 55,
   "metadata": {},
   "outputs": [
    {
     "data": {
      "text/plain": [
       "0.07092435780061514"
      ]
     },
     "execution_count": 55,
     "metadata": {},
     "output_type": "execute_result"
    }
   ],
   "source": [
    "avg(pos_ratio)"
   ]
  },
  {
   "cell_type": "code",
   "execution_count": 155,
   "metadata": {},
   "outputs": [],
   "source": [
    "text_lengths = list(text_dict.values())\n",
    "rationale_lengths = list(rationale_dict.values())\n",
    "\n",
    "mean_rationale_length = avg(rationale_lenth)\n",
    "mean_text_length = avg(text_lengths)\n",
    "mean_rationale_percent = sum(rationale_lengths)/sum(text_lengths)\n",
    "mean_rationale_length_class = [avg(neg_lengths), avg(pos_lengths)]\n",
    "mean_rationale_percent_class = [avg(neg_ratios), avg(pos_ratios)]\n",
    "mean_text_length_class = 0\n",
    "mean_text_length_z = mean_text_length\n",
    "mean_text_length_all = mean_text_length\n",
    "mean_text_length_train = 0\n",
    "mean_text_length_dev = 0\n",
    "mean_text_length_test = 0\n",
    "mean_rationale_length_z = 0"
   ]
  },
  {
   "cell_type": "code",
   "execution_count": 161,
   "metadata": {},
   "outputs": [
    {
     "ename": "ValueError",
     "evalue": "Must have equal len keys and value when setting with an iterable",
     "output_type": "error",
     "traceback": [
      "\u001b[1;31m---------------------------------------------------------------------------\u001b[0m",
      "\u001b[1;31mValueError\u001b[0m                                Traceback (most recent call last)",
      "\u001b[1;32m<ipython-input-161-bac1d08a9ca4>\u001b[0m in \u001b[0;36m<module>\u001b[1;34m\u001b[0m\n\u001b[0;32m     19\u001b[0m           \u001b[0mmean_text_length_test\u001b[0m\u001b[1;33m,\u001b[0m\u001b[1;33m\u001b[0m\u001b[1;33m\u001b[0m\u001b[0m\n\u001b[0;32m     20\u001b[0m           mean_rationale_length_z]\n\u001b[1;32m---> 21\u001b[1;33m \u001b[0mstats\u001b[0m\u001b[1;33m.\u001b[0m\u001b[0mloc\u001b[0m\u001b[1;33m[\u001b[0m\u001b[1;36m0\u001b[0m\u001b[1;33m]\u001b[0m \u001b[1;33m=\u001b[0m \u001b[0mscifact\u001b[0m\u001b[1;33m\u001b[0m\u001b[1;33m\u001b[0m\u001b[0m\n\u001b[0m\u001b[0;32m     22\u001b[0m \u001b[0mstats\u001b[0m\u001b[1;33m.\u001b[0m\u001b[0mto_csv\u001b[0m\u001b[1;33m(\u001b[0m\u001b[0mstats_path\u001b[0m\u001b[1;33m)\u001b[0m\u001b[1;33m\u001b[0m\u001b[1;33m\u001b[0m\u001b[0m\n",
      "\u001b[1;32m~\\AppData\\Local\\Programs\\Python\\Python38\\lib\\site-packages\\pandas\\core\\indexing.py\u001b[0m in \u001b[0;36m__setitem__\u001b[1;34m(self, key, value)\u001b[0m\n\u001b[0;32m    669\u001b[0m             \u001b[0mkey\u001b[0m \u001b[1;33m=\u001b[0m \u001b[0mcom\u001b[0m\u001b[1;33m.\u001b[0m\u001b[0mapply_if_callable\u001b[0m\u001b[1;33m(\u001b[0m\u001b[0mkey\u001b[0m\u001b[1;33m,\u001b[0m \u001b[0mself\u001b[0m\u001b[1;33m.\u001b[0m\u001b[0mobj\u001b[0m\u001b[1;33m)\u001b[0m\u001b[1;33m\u001b[0m\u001b[1;33m\u001b[0m\u001b[0m\n\u001b[0;32m    670\u001b[0m         \u001b[0mindexer\u001b[0m \u001b[1;33m=\u001b[0m \u001b[0mself\u001b[0m\u001b[1;33m.\u001b[0m\u001b[0m_get_setitem_indexer\u001b[0m\u001b[1;33m(\u001b[0m\u001b[0mkey\u001b[0m\u001b[1;33m)\u001b[0m\u001b[1;33m\u001b[0m\u001b[1;33m\u001b[0m\u001b[0m\n\u001b[1;32m--> 671\u001b[1;33m         \u001b[0mself\u001b[0m\u001b[1;33m.\u001b[0m\u001b[0m_setitem_with_indexer\u001b[0m\u001b[1;33m(\u001b[0m\u001b[0mindexer\u001b[0m\u001b[1;33m,\u001b[0m \u001b[0mvalue\u001b[0m\u001b[1;33m)\u001b[0m\u001b[1;33m\u001b[0m\u001b[1;33m\u001b[0m\u001b[0m\n\u001b[0m\u001b[0;32m    672\u001b[0m \u001b[1;33m\u001b[0m\u001b[0m\n\u001b[0;32m    673\u001b[0m     \u001b[1;32mdef\u001b[0m \u001b[0m_validate_key\u001b[0m\u001b[1;33m(\u001b[0m\u001b[0mself\u001b[0m\u001b[1;33m,\u001b[0m \u001b[0mkey\u001b[0m\u001b[1;33m,\u001b[0m \u001b[0maxis\u001b[0m\u001b[1;33m:\u001b[0m \u001b[0mint\u001b[0m\u001b[1;33m)\u001b[0m\u001b[1;33m:\u001b[0m\u001b[1;33m\u001b[0m\u001b[1;33m\u001b[0m\u001b[0m\n",
      "\u001b[1;32m~\\AppData\\Local\\Programs\\Python\\Python38\\lib\\site-packages\\pandas\\core\\indexing.py\u001b[0m in \u001b[0;36m_setitem_with_indexer\u001b[1;34m(self, indexer, value)\u001b[0m\n\u001b[0;32m   1016\u001b[0m \u001b[1;33m\u001b[0m\u001b[0m\n\u001b[0;32m   1017\u001b[0m                     \u001b[1;32mif\u001b[0m \u001b[0mlen\u001b[0m\u001b[1;33m(\u001b[0m\u001b[0mlabels\u001b[0m\u001b[1;33m)\u001b[0m \u001b[1;33m!=\u001b[0m \u001b[0mlen\u001b[0m\u001b[1;33m(\u001b[0m\u001b[0mvalue\u001b[0m\u001b[1;33m)\u001b[0m\u001b[1;33m:\u001b[0m\u001b[1;33m\u001b[0m\u001b[1;33m\u001b[0m\u001b[0m\n\u001b[1;32m-> 1018\u001b[1;33m                         raise ValueError(\n\u001b[0m\u001b[0;32m   1019\u001b[0m                             \u001b[1;34m\"Must have equal len keys and value \"\u001b[0m\u001b[1;33m\u001b[0m\u001b[1;33m\u001b[0m\u001b[0m\n\u001b[0;32m   1020\u001b[0m                             \u001b[1;34m\"when setting with an iterable\"\u001b[0m\u001b[1;33m\u001b[0m\u001b[1;33m\u001b[0m\u001b[0m\n",
      "\u001b[1;31mValueError\u001b[0m: Must have equal len keys and value when setting with an iterable"
     ]
    }
   ],
   "source": [
    "stats_path = directory + 'stats.csv'\n",
    "stats = pd.read_csv(stats_path)\n",
    "scifact = ['SciFact', \n",
    "          ['REFUTES', 'SUPPORTS'],\n",
    "          len(train),\n",
    "          len(test),\n",
    "          len(val),\n",
    "          'RC,',\n",
    "          mean_rationale_length,\n",
    "          mean_text_length,\n",
    "          mean_rationale_percent,\n",
    "          mean_rationale_length_class,\n",
    "          mean_rationale_percent_class,\n",
    "          mean_text_length_class,\n",
    "          mean_text_length_z,\n",
    "          mean_text_length_all,\n",
    "          mean_text_length_train,\n",
    "          mean_text_length_dev,\n",
    "          mean_text_length_test,\n",
    "          mean_rationale_length_z]\n",
    "stats.loc[0] = scifact\n",
    "stats.to_csv(stats_path)"
   ]
  },
  {
   "cell_type": "code",
   "execution_count": 157,
   "metadata": {},
   "outputs": [
    {
     "data": {
      "text/plain": [
       "['SciFact',\n",
       " ['REFUTES', 'SUPPORTS'],\n",
       " 405,\n",
       " 188,\n",
       " 100,\n",
       " 'RC,',\n",
       " 74.84439359267735,\n",
       " 265.5903890160183,\n",
       " 0.2818038479101867,\n",
       " [38.20302375809935, 34.74519230769231],\n",
       " [0.13399179869568198, 0.1428665268469391],\n",
       " 0,\n",
       " 265.5903890160183,\n",
       " 265.5903890160183,\n",
       " 0,\n",
       " 0,\n",
       " 0,\n",
       " 0]"
      ]
     },
     "execution_count": 157,
     "metadata": {},
     "output_type": "execute_result"
    }
   ],
   "source": [
    "scifact"
   ]
  }
 ],
 "metadata": {
  "kernelspec": {
   "display_name": "Python 3",
   "language": "python",
   "name": "python3"
  },
  "language_info": {
   "codemirror_mode": {
    "name": "ipython",
    "version": 3
   },
   "file_extension": ".py",
   "mimetype": "text/x-python",
   "name": "python",
   "nbconvert_exporter": "python",
   "pygments_lexer": "ipython3",
   "version": "3.8.3"
  }
 },
 "nbformat": 4,
 "nbformat_minor": 4
}
