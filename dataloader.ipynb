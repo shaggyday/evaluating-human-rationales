{
 "cells": [
  {
   "cell_type": "code",
   "execution_count": 1,
   "metadata": {},
   "outputs": [],
   "source": [
    "import torch\n",
    "import pandas as pd\n",
    "import os\n",
    "import json\n",
    "import numpy as np"
   ]
  },
  {
   "cell_type": "code",
   "execution_count": 2,
   "metadata": {},
   "outputs": [],
   "source": [
    "class Dataset(torch.utils.data.Dataset):\n",
    "    def __init__(self, X, labels, attention_masks, BATCH_SIZE_FLAG=32):\n",
    "        \"\"\"Initialization\"\"\"\n",
    "        self.y = labels\n",
    "        self.X = X\n",
    "        # self.rationale = rationale\n",
    "        self.attention_masks = attention_masks\n",
    "        self.BATCH_SIZE_FLAG = BATCH_SIZE_FLAG\n",
    "\n",
    "    def __len__(self):\n",
    "        \"\"\"number of samples\"\"\"\n",
    "        return self.X.shape[0]\n",
    "\n",
    "    def __getitem__(self, index):\n",
    "        \"\"\"Get individual item from the tensor\"\"\"\n",
    "        sample = {\"input_ids\": self.X[index],\n",
    "                  \"labels\": self.y[index],\n",
    "                  # \"rationale\": self.rationale[index],\n",
    "                  \"attention_mask\": self.attention_masks[index]\n",
    "                  }\n",
    "        return sample"
   ]
  },
  {
   "cell_type": "code",
   "execution_count": 4,
   "metadata": {},
   "outputs": [],
   "source": [
    "def create_dataloader(model, classes, filepath, batch_size=32, max_rows=None, class_specific=None, max_len=512, return_dataset=False, name=None):\n",
    "    \"\"\"Preparing dataloader\"\"\"\n",
    "    data_df = pd.read_csv(filepath, lines=True)\n",
    "    data_df = data_df[data_df['text'].notna()]\n",
    "    data_df.reset_index(drop=True, inplace=True)\n",
    "\n",
    "    # convert rationale column to list from string\n",
    "    try:\n",
    "        data_df = data_df[data_df['rationale'].notna()]\n",
    "        data_df.reset_index(drop=True, inplace=True)\n",
    "        try:\n",
    "            data_df[\"rationale\"] = data_df['rationale'].apply(lambda s: json.loads(s))\n",
    "        except Exception as e:\n",
    "            # for handling rationale string from wikiattack\n",
    "            data_df[\"rationale\"] = data_df[\"rationale\"].apply(lambda s: s.strip(\"[\").strip(\"]\").split())\n",
    "    except Exception as e:\n",
    "        pass\n",
    "    if max_rows is not None:\n",
    "        data_df = data_df.iloc[:max_rows]\n",
    "\n",
    "#     data_df['text']= data_df['text'].apply(lambda t:t.replace('[SEP]',model.tokenizer.sep_token))\n",
    "\n",
    "    data_df['input_ids'], data_df['attention_mask'] = zip(*data_df['text'].map(model.tokenize))\n",
    "\n",
    "    input_id_tensor = torch.tensor(data_df['input_ids'])\n",
    "    attention_mask_tensor = torch.tensor(data_df['attention_mask'])\n",
    "\n",
    "    labels_tensor = create_label_tensor(data_df, classes)\n",
    "\n",
    "    dataset_ds = Dataset(input_id_tensor, labels_tensor, attention_mask_tensor,\n",
    "                         BATCH_SIZE_FLAG=batch_size)\n",
    "    if return_dataset:\n",
    "        return dataset_ds\n",
    "    return torch.utils.data.DataLoader(dataset_ds, batch_size=dataset_ds.BATCH_SIZE_FLAG, shuffle=True)"
   ]
  },
  {
   "cell_type": "code",
   "execution_count": 3,
   "metadata": {},
   "outputs": [],
   "source": [
    "def prepare_data(model, classes, data_dir, train_path=None, dev_path=None, test_path=None, batch_size=32, max_rows=None, max_len=512, return_dataset=False, name=None):\n",
    "    \"\"\"Preparing data for training, evaluation and testing\"\"\"\n",
    "\n",
    "    train_dataloader = create_dataloader(model, classes, train_path, max_rows=max_rows, batch_size=batch_size, max_len=max_len, return_dataset=return_dataset, name=name)\n",
    "    dev_dataloader = create_dataloader(model, classes, dev_path, max_rows=max_rows, batch_size=batch_size, max_len=max_len, return_dataset=return_dataset, name=name)\n",
    "    # test_dataloader = create_dataloader(model, classes, test_path, max_rows=max_rows, batch_size=batch_size,\n",
    "    # max_len=max_len, return_dataset=return_dataset)\n",
    "    return train_dataloader, dev_dataloader"
   ]
  },
  {
   "cell_type": "code",
   "execution_count": null,
   "metadata": {},
   "outputs": [],
   "source": []
  },
  {
   "cell_type": "code",
   "execution_count": null,
   "metadata": {},
   "outputs": [],
   "source": []
  },
  {
   "cell_type": "code",
   "execution_count": null,
   "metadata": {},
   "outputs": [],
   "source": []
  },
  {
   "cell_type": "code",
   "execution_count": null,
   "metadata": {},
   "outputs": [],
   "source": []
  },
  {
   "cell_type": "code",
   "execution_count": null,
   "metadata": {},
   "outputs": [],
   "source": [
    "create_dataloader(0, classes, train_path, max_rows=max_rows, batch_size=batch_size, max_len=max_len, return_dataset=True, name=name)"
   ]
  }
 ],
 "metadata": {
  "kernelspec": {
   "display_name": "Python 3",
   "language": "python",
   "name": "python3"
  },
  "language_info": {
   "codemirror_mode": {
    "name": "ipython",
    "version": 3
   },
   "file_extension": ".py",
   "mimetype": "text/x-python",
   "name": "python",
   "nbconvert_exporter": "python",
   "pygments_lexer": "ipython3",
   "version": "3.8.3"
  }
 },
 "nbformat": 4,
 "nbformat_minor": 4
}
