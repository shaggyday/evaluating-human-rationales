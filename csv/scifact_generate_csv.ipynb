{
 "cells": [
  {
   "cell_type": "code",
   "execution_count": 19,
   "metadata": {},
   "outputs": [],
   "source": [
    "import pandas as pd\n",
    "import os\n",
    "from tqdm import tqdm\n",
    "from utils import avg\n",
    "from utils import evidence_to_mask\n",
    "\n",
    "def to_data_df(df, data_dir):\n",
    "    data_df = []\n",
    "    columns = ['text', 'classification', 'rationale']\n",
    "    for i in tqdm(range(len(df))):\n",
    "        df_row = df.loc[i]\n",
    "        doc_ids = df_row['docids']\n",
    "        query = df_row['query']\n",
    "        evidence_list = df_row['evidences']\n",
    "        if evidence_list:\n",
    "            evidence_list = [x for xx in evidence_list for x in xx]\n",
    "        classification = df_row['classification']\n",
    "        \n",
    "        text = ''\n",
    "        for doc in doc_ids:\n",
    "            file = f'{data_dir}/docs/{doc}'\n",
    "            if os.path.isfile(file):\n",
    "                f = open(file, 'r', encoding=\"utf-8\") \n",
    "                for line in f.readlines():\n",
    "                    text += line.rstrip() + ' '\n",
    "            else:\n",
    "                print(\"???\")\n",
    "                print(file)\n",
    "                quit()\n",
    "        \n",
    "        tokens = text.split()\n",
    "        rationale_mask = evidence_to_mask(tokens, evidence_list)\n",
    "        \n",
    "        # joining text and query with [SEP]\n",
    "        QA = f\"{query} [SEP] {text}\"\n",
    "        rationale_mask = [1]*(len(query.split())+1) + rationale_mask\n",
    "    \n",
    "        data_df.append([QA, classification, rationale_mask])\n",
    "    data_df = pd.DataFrame(data_df, columns=columns)\n",
    "    return data_df"
   ]
  },
  {
   "cell_type": "code",
   "execution_count": 15,
   "metadata": {},
   "outputs": [],
   "source": [
    "dataset = \"scifact\""
   ]
  },
  {
   "cell_type": "code",
   "execution_count": 16,
   "metadata": {},
   "outputs": [],
   "source": [
    "data_dir = f'../data/{dataset}'\n",
    "train = pd.read_json(f'{data_dir}/train.jsonl', lines=True)\n",
    "test = pd.read_json(f'{data_dir}/test.jsonl', lines=True)\n",
    "val = pd.read_json(f'{data_dir}/val.jsonl', lines=True)"
   ]
  },
  {
   "cell_type": "code",
   "execution_count": 17,
   "metadata": {
    "collapsed": true
   },
   "outputs": [
    {
     "name": "stdout",
     "output_type": "stream",
     "text": [
      "<class 'pandas.core.frame.DataFrame'>\n",
      "RangeIndex: 405 entries, 0 to 404\n",
      "Data columns (total 6 columns):\n",
      " #   Column          Non-Null Count  Dtype  \n",
      "---  ------          --------------  -----  \n",
      " 0   annotation_id   405 non-null    int64  \n",
      " 1   query           405 non-null    object \n",
      " 2   evidences       405 non-null    object \n",
      " 3   classification  405 non-null    object \n",
      " 4   query_type      0 non-null      float64\n",
      " 5   docids          405 non-null    object \n",
      "dtypes: float64(1), int64(1), object(4)\n",
      "memory usage: 19.1+ KB\n"
     ]
    }
   ],
   "source": [
    "train.info()\n",
    "# test.info()\n",
    "# val.info()"
   ]
  },
  {
   "cell_type": "code",
   "execution_count": 20,
   "metadata": {},
   "outputs": [
    {
     "name": "stderr",
     "output_type": "stream",
     "text": [
      "100%|██████████████████████████████████████████████████████████████████████████████| 405/405 [00:00<00:00, 1188.59it/s]\n",
      "100%|██████████████████████████████████████████████████████████████████████████████| 188/188 [00:00<00:00, 1367.44it/s]\n",
      "100%|██████████████████████████████████████████████████████████████████████████████| 100/100 [00:00<00:00, 1388.92it/s]\n"
     ]
    }
   ],
   "source": [
    "train_data_df = to_data_df(train, data_dir)\n",
    "train_data_df.to_csv(f\"{dataset}/train.csv\",index_label=\"id\")\n",
    "test_data_df = to_data_df(test, data_dir)\n",
    "test_data_df.to_csv(f\"{dataset}/test.csv\",index_label=\"id\")\n",
    "val_data_df = to_data_df(val, data_dir)\n",
    "val_data_df.to_csv(f\"{dataset}/val.csv\",index_label=\"id\")"
   ]
  },
  {
   "cell_type": "markdown",
   "metadata": {},
   "source": [
    "# SANITY CHECK"
   ]
  },
  {
   "cell_type": "code",
   "execution_count": 21,
   "metadata": {},
   "outputs": [],
   "source": [
    "data_df = test_data_df\n",
    "import json\n",
    "\n",
    "def reduce_by_alpha(text, rationale, fidelity_type=\"sufficiency\"):\n",
    "    reduced_text = \"\"\n",
    "    # whitespace tokenization\n",
    "    tokens = text.split()\n",
    "\n",
    "    for idx in range(len(tokens)):\n",
    "        try:\n",
    "            if fidelity_type == \"sufficiency\" and rationale[idx] >= 0.5:\n",
    "                reduced_text = reduced_text + tokens[idx] + \" \"\n",
    "            elif fidelity_type == \"comprehensiveness\" and rationale[idx] < 0.5:\n",
    "                reduced_text = reduced_text + tokens[idx] + \" \"\n",
    "        except Exception as e:\n",
    "            if fidelity_type == \"comprehensiveness\":\n",
    "                reduced_text = reduced_text + tokens[idx] + \" \"\n",
    "\n",
    "    # removed the last space from the text\n",
    "    if len(reduced_text) > 0:\n",
    "        reduced_text = reduced_text[:-1]\n",
    "\n",
    "    return reduced_text\n",
    "\n",
    "data_df = data_df[data_df['rationale'].notna()]\n",
    "data_df.reset_index(drop=True, inplace=True)\n",
    "\n",
    "\n",
    "data_df[\"sufficiency_text\"] = data_df[\n",
    "    [\"text\", \"rationale\"]].apply(lambda s: reduce_by_alpha(*s, fidelity_type=\"sufficiency\"), axis=1)\n",
    "data_df[\"comprehensiveness_text\"] = data_df[\n",
    "    [\"text\", \"rationale\"]].apply(lambda s: reduce_by_alpha(*s, fidelity_type=\"comprehensiveness\"), axis=1)"
   ]
  },
  {
   "cell_type": "code",
   "execution_count": 22,
   "metadata": {},
   "outputs": [
    {
     "data": {
      "text/plain": [
       "'1,000 genomes project enables mapping of genetic sequence variation consisting of rare variants with larger penetrance effects than common variants. [SEP] We propose as an alternative explanation that variants much less common than the associated one may create \" synthetic associations \" by occurring , stochastically , more often in association with one of the alleles at the common site versus the other allele . We show that they are not only possible , but inevitable , and that under simple but reasonable genetic models , they are likely to account for or contribute to many of the recently identified signals reported in genome-wide association studies . In conclusion , uncommon or rare genetic variants can easily create synthetic associations that are credited to common variants , and this possibility requires careful consideration in the interpretation and follow up of GWAS signals .'"
      ]
     },
     "execution_count": 22,
     "metadata": {},
     "output_type": "execute_result"
    }
   ],
   "source": [
    "data_df['sufficiency_text'][0]"
   ]
  }
 ],
 "metadata": {
  "kernelspec": {
   "display_name": "Python 3",
   "language": "python",
   "name": "python3"
  },
  "language_info": {
   "codemirror_mode": {
    "name": "ipython",
    "version": 3
   },
   "file_extension": ".py",
   "mimetype": "text/x-python",
   "name": "python",
   "nbconvert_exporter": "python",
   "pygments_lexer": "ipython3",
   "version": "3.8.3"
  }
 },
 "nbformat": 4,
 "nbformat_minor": 4
}
