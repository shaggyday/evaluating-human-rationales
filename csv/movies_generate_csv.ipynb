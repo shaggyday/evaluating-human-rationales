{
 "cells": [
  {
   "cell_type": "code",
   "execution_count": 15,
   "metadata": {},
   "outputs": [],
   "source": [
    "import pandas as pd\n",
    "import os\n",
    "from tqdm import tqdm\n",
    "from utils import avg\n",
    "from utils import evidence_to_mask\n",
    "\n",
    "def to_data_df(df, data_dir):\n",
    "    data_df = []\n",
    "    columns = ['text', 'classification', 'rationale']\n",
    "    for i in tqdm(range(len(df))):\n",
    "        df_row = df.loc[i]\n",
    "        \n",
    "        doc_id = df_row['annotation_id']\n",
    "        evidence_list = df_row['evidences']\n",
    "        if evidence_list:\n",
    "            evidence_list = evidence_list[0]\n",
    "        classification = df_row['classification']\n",
    "        \n",
    "        text = ''\n",
    "        file = f'{data_dir}/docs/{doc_id}'\n",
    "        if os.path.isfile(file):\n",
    "            f = open(file, 'r', encoding=\"utf-8\") \n",
    "            for line in f.readlines():\n",
    "                text += line.rstrip() + ' '\n",
    "        else:\n",
    "            print(\"???\")\n",
    "            print(file)\n",
    "            quit()\n",
    "        \n",
    "        tokens = text.split()\n",
    "        rationale_mask = evidence_to_mask(tokens, evidence_list)\n",
    "        \n",
    "        # joining text and query with [SEP]\n",
    "        QA = f\"[CLS] {text} [SEP]\" \n",
    "#         QA = f\"{text}\"\n",
    "        rationale_mask = rationale_mask\n",
    "    \n",
    "        data_df.append([QA, classification, rationale_mask])\n",
    "    data_df = pd.DataFrame(data_df, columns=columns)\n",
    "    return data_df"
   ]
  },
  {
   "cell_type": "code",
   "execution_count": 16,
   "metadata": {},
   "outputs": [],
   "source": [
    "dataset = \"movies\""
   ]
  },
  {
   "cell_type": "code",
   "execution_count": 17,
   "metadata": {},
   "outputs": [],
   "source": [
    "data_dir = f'../data/{dataset}'\n",
    "train = pd.read_json(f'{data_dir}/train.jsonl', lines=True)\n",
    "test = pd.read_json(f'{data_dir}/test.jsonl', lines=True)\n",
    "val = pd.read_json(f'{data_dir}/val.jsonl', lines=True)"
   ]
  },
  {
   "cell_type": "code",
   "execution_count": 18,
   "metadata": {
    "collapsed": true
   },
   "outputs": [
    {
     "name": "stdout",
     "output_type": "stream",
     "text": [
      "<class 'pandas.core.frame.DataFrame'>\n",
      "RangeIndex: 1600 entries, 0 to 1599\n",
      "Data columns (total 5 columns):\n",
      " #   Column          Non-Null Count  Dtype  \n",
      "---  ------          --------------  -----  \n",
      " 0   annotation_id   1600 non-null   object \n",
      " 1   classification  1600 non-null   object \n",
      " 2   evidences       1600 non-null   object \n",
      " 3   query           1600 non-null   object \n",
      " 4   query_type      0 non-null      float64\n",
      "dtypes: float64(1), object(4)\n",
      "memory usage: 62.6+ KB\n"
     ]
    }
   ],
   "source": [
    "train.info()\n",
    "# test.info()\n",
    "# val.info()"
   ]
  },
  {
   "cell_type": "code",
   "execution_count": 19,
   "metadata": {},
   "outputs": [
    {
     "name": "stderr",
     "output_type": "stream",
     "text": [
      "100%|████████████████████████████████████████████████████████████████████████████| 1600/1600 [00:01<00:00, 1314.02it/s]\n",
      "100%|██████████████████████████████████████████████████████████████████████████████| 199/199 [00:00<00:00, 1227.12it/s]\n",
      "100%|██████████████████████████████████████████████████████████████████████████████| 200/200 [00:00<00:00, 1192.69it/s]\n"
     ]
    }
   ],
   "source": [
    "train_data_df = to_data_df(train, data_dir)\n",
    "train_data_df.to_csv(f\"{dataset}/train.csv\",index_label=\"id\")\n",
    "test_data_df = to_data_df(test, data_dir)\n",
    "test_data_df.to_csv(f\"{dataset}/test.csv\",index_label=\"id\")\n",
    "val_data_df = to_data_df(val, data_dir)\n",
    "val_data_df.to_csv(f\"{dataset}/val.csv\",index_label=\"id\")"
   ]
  },
  {
   "cell_type": "code",
   "execution_count": null,
   "metadata": {},
   "outputs": [],
   "source": []
  }
 ],
 "metadata": {
  "kernelspec": {
   "display_name": "Python 3",
   "language": "python",
   "name": "python3"
  },
  "language_info": {
   "codemirror_mode": {
    "name": "ipython",
    "version": 3
   },
   "file_extension": ".py",
   "mimetype": "text/x-python",
   "name": "python",
   "nbconvert_exporter": "python",
   "pygments_lexer": "ipython3",
   "version": "3.8.3"
  }
 },
 "nbformat": 4,
 "nbformat_minor": 4
}
