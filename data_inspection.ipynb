{
 "cells": [
  {
   "cell_type": "code",
   "execution_count": 3,
   "metadata": {},
   "outputs": [],
   "source": [
    "import pandas as pd\n",
    "train_f_suffix = 'train'\n",
    "test_f_suffix = 'test'\n",
    "val_f_suffix = 'val'"
   ]
  },
  {
   "cell_type": "code",
   "execution_count": 42,
   "metadata": {},
   "outputs": [],
   "source": [
    "directory = 'data/boolq/'"
   ]
  },
  {
   "cell_type": "code",
   "execution_count": 43,
   "metadata": {},
   "outputs": [
    {
     "name": "stdout",
     "output_type": "stream",
     "text": [
      "<class 'pandas.core.frame.DataFrame'>\n",
      "RangeIndex: 6363 entries, 0 to 6362\n",
      "Data columns (total 6 columns):\n",
      " #   Column          Non-Null Count  Dtype  \n",
      "---  ------          --------------  -----  \n",
      " 0   annotation_id   6363 non-null   int64  \n",
      " 1   classification  6363 non-null   object \n",
      " 2   docids          6363 non-null   object \n",
      " 3   evidences       6363 non-null   object \n",
      " 4   query           6363 non-null   object \n",
      " 5   query_type      0 non-null      float64\n",
      "dtypes: float64(1), int64(1), object(4)\n",
      "memory usage: 298.4+ KB\n"
     ]
    }
   ],
   "source": [
    "train = pd.read_json(directory + train_f_suffix + '.jsonl', lines=True)\n",
    "train.info()"
   ]
  },
  {
   "cell_type": "code",
   "execution_count": 44,
   "metadata": {},
   "outputs": [
    {
     "name": "stdout",
     "output_type": "stream",
     "text": [
      "<class 'pandas.core.frame.DataFrame'>\n",
      "RangeIndex: 2807 entries, 0 to 2806\n",
      "Data columns (total 6 columns):\n",
      " #   Column          Non-Null Count  Dtype  \n",
      "---  ------          --------------  -----  \n",
      " 0   annotation_id   2807 non-null   int64  \n",
      " 1   classification  2807 non-null   object \n",
      " 2   docids          2807 non-null   object \n",
      " 3   evidences       2807 non-null   object \n",
      " 4   query           2807 non-null   object \n",
      " 5   query_type      0 non-null      float64\n",
      "dtypes: float64(1), int64(1), object(4)\n",
      "memory usage: 131.7+ KB\n"
     ]
    }
   ],
   "source": [
    "test = pd.read_json(directory + test_f_suffix + '.jsonl', lines=True)\n",
    "test.info()"
   ]
  },
  {
   "cell_type": "code",
   "execution_count": 45,
   "metadata": {},
   "outputs": [
    {
     "name": "stdout",
     "output_type": "stream",
     "text": [
      "<class 'pandas.core.frame.DataFrame'>\n",
      "RangeIndex: 1491 entries, 0 to 1490\n",
      "Data columns (total 6 columns):\n",
      " #   Column          Non-Null Count  Dtype  \n",
      "---  ------          --------------  -----  \n",
      " 0   annotation_id   1491 non-null   int64  \n",
      " 1   classification  1491 non-null   object \n",
      " 2   docids          1491 non-null   object \n",
      " 3   evidences       1491 non-null   object \n",
      " 4   query           1491 non-null   object \n",
      " 5   query_type      0 non-null      float64\n",
      "dtypes: float64(1), int64(1), object(4)\n",
      "memory usage: 70.0+ KB\n"
     ]
    }
   ],
   "source": [
    "val = pd.read_json(directory + val_f_suffix + '.jsonl', lines=True)\n",
    "val.info()"
   ]
  },
  {
   "cell_type": "code",
   "execution_count": 48,
   "metadata": {},
   "outputs": [
    {
     "name": "stdout",
     "output_type": "stream",
     "text": [
      "<class 'pandas.core.frame.DataFrame'>\n",
      "RangeIndex: 6363 entries, 0 to 6362\n",
      "Data columns (total 6 columns):\n",
      " #   Column          Non-Null Count  Dtype  \n",
      "---  ------          --------------  -----  \n",
      " 0   annotation_id   6363 non-null   int64  \n",
      " 1   classification  6363 non-null   object \n",
      " 2   docids          6363 non-null   object \n",
      " 3   evidences       6363 non-null   object \n",
      " 4   query           6363 non-null   object \n",
      " 5   query_type      0 non-null      float64\n",
      "dtypes: float64(1), int64(1), object(4)\n",
      "memory usage: 298.4+ KB\n"
     ]
    }
   ],
   "source": [
    "docs = pd.read_json(directory + 'train_data' + '.jsonl', lines=True)\n",
    "docs.info()"
   ]
  },
  {
   "cell_type": "code",
   "execution_count": 31,
   "metadata": {},
   "outputs": [
    {
     "data": {
      "text/plain": [
       "[[{'text': 'The tumorigenic potential of GSCs was decreased with A20 targeting , resulting in increased survival of mice bearing human glioma xenografts .',\n",
       "   'docid': '33370',\n",
       "   'start_token': 178,\n",
       "   'end_token': 200,\n",
       "   'start_sentence': 6,\n",
       "   'end_sentence': 7}],\n",
       " [{'text': 'Inhibiting A20 expression by siRNAs in vitro reduced the growth rates of glioma cells and resulted in G1/S arrest and increased apoptosis .',\n",
       "   'docid': '38355793',\n",
       "   'start_token': 137,\n",
       "   'end_token': 160,\n",
       "   'start_sentence': 7,\n",
       "   'end_sentence': 8}],\n",
       " [{'text': 'In a mouse tumor model , local administration of siRNA significantly suppressed solid tumor growth .',\n",
       "   'docid': '38355793',\n",
       "   'start_token': 160,\n",
       "   'end_token': 176,\n",
       "   'start_sentence': 8,\n",
       "   'end_sentence': 9}],\n",
       " [{'text': 'CONCLUSIONS A20 was overexpressed both in human glioma tissues and cell lines , and inhibiting A20 expression greatly slowed tumor cell growth in culture and in mice .',\n",
       "   'docid': '38355793',\n",
       "   'start_token': 176,\n",
       "   'end_token': 204,\n",
       "   'start_sentence': 9,\n",
       "   'end_sentence': 10}]]"
      ]
     },
     "execution_count": 31,
     "metadata": {},
     "output_type": "execute_result"
    }
   ],
   "source": [
    "train.iloc[402]['evidences']"
   ]
  },
  {
   "cell_type": "code",
   "execution_count": 15,
   "metadata": {},
   "outputs": [
    {
     "data": {
      "text/plain": [
       "'siRNA knockdown of A20 slows tumor progression in an in vivo murine xenograft model.'"
      ]
     },
     "execution_count": 15,
     "metadata": {},
     "output_type": "execute_result"
    }
   ],
   "source": [
    "train.iloc[403]['query']"
   ]
  },
  {
   "cell_type": "code",
   "execution_count": 46,
   "metadata": {},
   "outputs": [
    {
     "data": {
      "text/html": [
       "<div>\n",
       "<style scoped>\n",
       "    .dataframe tbody tr th:only-of-type {\n",
       "        vertical-align: middle;\n",
       "    }\n",
       "\n",
       "    .dataframe tbody tr th {\n",
       "        vertical-align: top;\n",
       "    }\n",
       "\n",
       "    .dataframe thead th {\n",
       "        text-align: right;\n",
       "    }\n",
       "</style>\n",
       "<table border=\"1\" class=\"dataframe\">\n",
       "  <thead>\n",
       "    <tr style=\"text-align: right;\">\n",
       "      <th></th>\n",
       "      <th>annotation_id</th>\n",
       "      <th>classification</th>\n",
       "      <th>docids</th>\n",
       "      <th>evidences</th>\n",
       "      <th>query</th>\n",
       "      <th>query_type</th>\n",
       "    </tr>\n",
       "  </thead>\n",
       "  <tbody>\n",
       "    <tr>\n",
       "      <th>0</th>\n",
       "      <td>0</td>\n",
       "      <td>True</td>\n",
       "      <td>[AB_wiki_62_7]</td>\n",
       "      <td>[[{'docid': 'AB_wiki_62_7', 'end_sentence': 2,...</td>\n",
       "      <td>do iran and afghanistan speak the same language</td>\n",
       "      <td>NaN</td>\n",
       "    </tr>\n",
       "    <tr>\n",
       "      <th>1</th>\n",
       "      <td>1</td>\n",
       "      <td>True</td>\n",
       "      <td>[AO_wiki_22_56]</td>\n",
       "      <td>[[{'docid': 'AO_wiki_22_56', 'end_sentence': 4...</td>\n",
       "      <td>do good samaritan laws protect those who help ...</td>\n",
       "      <td>NaN</td>\n",
       "    </tr>\n",
       "    <tr>\n",
       "      <th>2</th>\n",
       "      <td>2</td>\n",
       "      <td>True</td>\n",
       "      <td>[BX_wiki_97_45]</td>\n",
       "      <td>[[{'docid': 'BX_wiki_97_45', 'end_sentence': 1...</td>\n",
       "      <td>is windows movie maker part of windows essentials</td>\n",
       "      <td>NaN</td>\n",
       "    </tr>\n",
       "    <tr>\n",
       "      <th>3</th>\n",
       "      <td>3</td>\n",
       "      <td>True</td>\n",
       "      <td>[AS_wiki_34_19]</td>\n",
       "      <td>[[{'docid': 'AS_wiki_34_19', 'end_sentence': 2...</td>\n",
       "      <td>is confectionary sugar the same as powdered sugar</td>\n",
       "      <td>NaN</td>\n",
       "    </tr>\n",
       "    <tr>\n",
       "      <th>4</th>\n",
       "      <td>4</td>\n",
       "      <td>False</td>\n",
       "      <td>[HL_wiki_72_24]</td>\n",
       "      <td>[[{'docid': 'HL_wiki_72_24', 'end_sentence': 1...</td>\n",
       "      <td>will there be a season 4 of da vinci's demons</td>\n",
       "      <td>NaN</td>\n",
       "    </tr>\n",
       "    <tr>\n",
       "      <th>...</th>\n",
       "      <td>...</td>\n",
       "      <td>...</td>\n",
       "      <td>...</td>\n",
       "      <td>...</td>\n",
       "      <td>...</td>\n",
       "      <td>...</td>\n",
       "    </tr>\n",
       "    <tr>\n",
       "      <th>6358</th>\n",
       "      <td>6358</td>\n",
       "      <td>True</td>\n",
       "      <td>[JL_wiki_46_77]</td>\n",
       "      <td>[[{'docid': 'JL_wiki_46_77', 'end_sentence': 4...</td>\n",
       "      <td>does shorvori die in dil se dil tak</td>\n",
       "      <td>NaN</td>\n",
       "    </tr>\n",
       "    <tr>\n",
       "      <th>6359</th>\n",
       "      <td>6359</td>\n",
       "      <td>True</td>\n",
       "      <td>[AI_wiki_85_28]</td>\n",
       "      <td>[[{'docid': 'AI_wiki_85_28', 'end_sentence': 5...</td>\n",
       "      <td>is a us district court a federal court</td>\n",
       "      <td>NaN</td>\n",
       "    </tr>\n",
       "    <tr>\n",
       "      <th>6360</th>\n",
       "      <td>6360</td>\n",
       "      <td>True</td>\n",
       "      <td>[DT_wiki_62_79]</td>\n",
       "      <td>[[{'docid': 'DT_wiki_62_79', 'end_sentence': 1...</td>\n",
       "      <td>can a tenant get a restraining order against a...</td>\n",
       "      <td>NaN</td>\n",
       "    </tr>\n",
       "    <tr>\n",
       "      <th>6361</th>\n",
       "      <td>6361</td>\n",
       "      <td>False</td>\n",
       "      <td>[HL_wiki_08_217]</td>\n",
       "      <td>[[{'docid': 'HL_wiki_08_217', 'end_sentence': ...</td>\n",
       "      <td>downton abbey will there be a season 7</td>\n",
       "      <td>NaN</td>\n",
       "    </tr>\n",
       "    <tr>\n",
       "      <th>6362</th>\n",
       "      <td>6362</td>\n",
       "      <td>False</td>\n",
       "      <td>[AV_wiki_69_0]</td>\n",
       "      <td>[[{'docid': 'AV_wiki_69_0', 'end_sentence': 10...</td>\n",
       "      <td>is margin of error the same as confidence inte...</td>\n",
       "      <td>NaN</td>\n",
       "    </tr>\n",
       "  </tbody>\n",
       "</table>\n",
       "<p>6363 rows × 6 columns</p>\n",
       "</div>"
      ],
      "text/plain": [
       "      annotation_id classification            docids  \\\n",
       "0                 0           True    [AB_wiki_62_7]   \n",
       "1                 1           True   [AO_wiki_22_56]   \n",
       "2                 2           True   [BX_wiki_97_45]   \n",
       "3                 3           True   [AS_wiki_34_19]   \n",
       "4                 4          False   [HL_wiki_72_24]   \n",
       "...             ...            ...               ...   \n",
       "6358           6358           True   [JL_wiki_46_77]   \n",
       "6359           6359           True   [AI_wiki_85_28]   \n",
       "6360           6360           True   [DT_wiki_62_79]   \n",
       "6361           6361          False  [HL_wiki_08_217]   \n",
       "6362           6362          False    [AV_wiki_69_0]   \n",
       "\n",
       "                                              evidences  \\\n",
       "0     [[{'docid': 'AB_wiki_62_7', 'end_sentence': 2,...   \n",
       "1     [[{'docid': 'AO_wiki_22_56', 'end_sentence': 4...   \n",
       "2     [[{'docid': 'BX_wiki_97_45', 'end_sentence': 1...   \n",
       "3     [[{'docid': 'AS_wiki_34_19', 'end_sentence': 2...   \n",
       "4     [[{'docid': 'HL_wiki_72_24', 'end_sentence': 1...   \n",
       "...                                                 ...   \n",
       "6358  [[{'docid': 'JL_wiki_46_77', 'end_sentence': 4...   \n",
       "6359  [[{'docid': 'AI_wiki_85_28', 'end_sentence': 5...   \n",
       "6360  [[{'docid': 'DT_wiki_62_79', 'end_sentence': 1...   \n",
       "6361  [[{'docid': 'HL_wiki_08_217', 'end_sentence': ...   \n",
       "6362  [[{'docid': 'AV_wiki_69_0', 'end_sentence': 10...   \n",
       "\n",
       "                                                  query  query_type  \n",
       "0       do iran and afghanistan speak the same language         NaN  \n",
       "1     do good samaritan laws protect those who help ...         NaN  \n",
       "2     is windows movie maker part of windows essentials         NaN  \n",
       "3     is confectionary sugar the same as powdered sugar         NaN  \n",
       "4         will there be a season 4 of da vinci's demons         NaN  \n",
       "...                                                 ...         ...  \n",
       "6358                does shorvori die in dil se dil tak         NaN  \n",
       "6359             is a us district court a federal court         NaN  \n",
       "6360  can a tenant get a restraining order against a...         NaN  \n",
       "6361             downton abbey will there be a season 7         NaN  \n",
       "6362  is margin of error the same as confidence inte...         NaN  \n",
       "\n",
       "[6363 rows x 6 columns]"
      ]
     },
     "execution_count": 46,
     "metadata": {},
     "output_type": "execute_result"
    }
   ],
   "source": [
    "train"
   ]
  },
  {
   "cell_type": "code",
   "execution_count": null,
   "metadata": {},
   "outputs": [],
   "source": []
  }
 ],
 "metadata": {
  "kernelspec": {
   "display_name": "Python 3",
   "language": "python",
   "name": "python3"
  },
  "language_info": {
   "codemirror_mode": {
    "name": "ipython",
    "version": 3
   },
   "file_extension": ".py",
   "mimetype": "text/x-python",
   "name": "python",
   "nbconvert_exporter": "python",
   "pygments_lexer": "ipython3",
   "version": "3.8.3"
  }
 },
 "nbformat": 4,
 "nbformat_minor": 4
}
