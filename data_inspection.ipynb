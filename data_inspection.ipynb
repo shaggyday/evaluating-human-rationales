{
 "cells": [
  {
   "cell_type": "code",
   "execution_count": 224,
   "metadata": {},
   "outputs": [],
   "source": [
    "dataset = \"scifact\""
   ]
  },
  {
   "cell_type": "code",
   "execution_count": 225,
   "metadata": {},
   "outputs": [],
   "source": [
    "import pandas as pd\n",
    "data_dir = f'data/{dataset}'\n",
    "train = pd.read_json(f'{data_dir}/train.jsonl', lines=True)\n",
    "test = pd.read_json(f'{data_dir}/test.jsonl', lines=True)\n",
    "val = pd.read_json(f'{data_dir}/val.jsonl', lines=True)"
   ]
  },
  {
   "cell_type": "code",
   "execution_count": 226,
   "metadata": {
    "collapsed": true
   },
   "outputs": [
    {
     "name": "stdout",
     "output_type": "stream",
     "text": [
      "<class 'pandas.core.frame.DataFrame'>\n",
      "RangeIndex: 405 entries, 0 to 404\n",
      "Data columns (total 6 columns):\n",
      " #   Column          Non-Null Count  Dtype  \n",
      "---  ------          --------------  -----  \n",
      " 0   annotation_id   405 non-null    int64  \n",
      " 1   query           405 non-null    object \n",
      " 2   evidences       405 non-null    object \n",
      " 3   classification  405 non-null    object \n",
      " 4   query_type      0 non-null      float64\n",
      " 5   docids          405 non-null    object \n",
      "dtypes: float64(1), int64(1), object(4)\n",
      "memory usage: 19.1+ KB\n"
     ]
    }
   ],
   "source": [
    "train.info()"
   ]
  },
  {
   "cell_type": "code",
   "execution_count": 227,
   "metadata": {
    "scrolled": true
   },
   "outputs": [
    {
     "data": {
      "text/plain": [
       "annotation_id                                                     3\n",
       "query             1,000 genomes project enables mapping of genet...\n",
       "evidences         [[{'text': 'We propose as an alternative expla...\n",
       "classification                                             SUPPORTS\n",
       "query_type                                                      NaN\n",
       "docids                                                   [14717500]\n",
       "Name: 0, dtype: object"
      ]
     },
     "execution_count": 227,
     "metadata": {},
     "output_type": "execute_result"
    }
   ],
   "source": [
    "test.iloc[0]"
   ]
  },
  {
   "cell_type": "code",
   "execution_count": 210,
   "metadata": {},
   "outputs": [],
   "source": [
    "t = \"\"\"[CLS] there may not be a critic alive who harbors as much affection for shlock monster movies as i do . i delighted in the sneaky - smart entertainment of ron underwood 's big - underground - worm yarn tremors giggled at last year 's critically - savaged big - underwater - snake yarn anaconda . something about these films causes me to lower my inhibitions and return to the saturday afternoons of my youth , spent in the company of ghidrah , the creature from the black lagoon and the blob . deep rising , a big - undersea - serpent yarn , does n't quite pass the test . sure enough , all the modern monster movie ingredients are in place : a conspicuously multi - ethnic / multi - national collection of bait . .. excuse me , characters ; an isolated location , here a derelict cruise ship in the south china sea ; some comic relief ; a few cgi - enhanced gross - outs ; and at least one big explosion . there are too - cheesy - to - be - accidental elements , like a sleazy shipping magnate ( anthony heald ) who also appears to have a doctorate in marine biology , or a slinky international jewel thief ( famke janssen ) whose white cotton tank top hides a heart of gold . as it happens , deep rising is noteworthy primarily for the mechanical manner in which it spits out all those ingredients . a terrorist crew , led by squinty - eyed mercenary hanover ( wes studi ) and piloted by squinty - eyed boat captain finnegan ( treat williams ) , shows up to loot the cruise ship ; the sea monsters show up to eat the mercenary crew ; a few survivors make it to the closing credits . and up go the lights . it 's hard to work up much enthusiasm for this sort of joyless film - making , especially when a monster moview should make you laugh every time it makes you scream . here , the laughs are provided almost entirely by kevin j. o'connor , generally amusing as the crew 's fraidy - cat mechanic . writer / director stephen sommers seems most concerned with creating a tone of action - horror menace -- something over - populated with gore - drenched skeletons , something where the gunfire and special effects are taken a bit too seriously . deep rising is missing that one unmistakable cue that we 're expected to have a ridiculous good time , not hide our eyes . case it point , comparing deep rising to its recent cousin anaconda . in deep rising , one of the creature 's victims is regurgitated back into view , partially digested and still alive . he shrieks in horror at his freakish appearance and pain , in a moment a bit too disturbing to be laughable . in anaconda , we also see a regurgitated victim , partially digested and still alive . he looks at another character . .. and winks . make no mistake , deep rising has anaconda beat all to heck when it comes to technical proficiency and pacing . it 's also gloomy , uninspired and not nearly enough fun . i do n't ask much of my monster movies , but i do ask that they act like monster movies . you do n't have to show me a fantastically impressive , massive beast with tentacles a - flailing . just show me the massive beast burping , and i 'll figure you get the point\"\"\""
   ]
  },
  {
   "cell_type": "code",
   "execution_count": 213,
   "metadata": {},
   "outputs": [],
   "source": [
    "t = t.split()"
   ]
  },
  {
   "cell_type": "code",
   "execution_count": 214,
   "metadata": {},
   "outputs": [
    {
     "data": {
      "text/plain": [
       "'giggled'"
      ]
     },
     "execution_count": 214,
     "metadata": {},
     "output_type": "execute_result"
    }
   ],
   "source": [
    "t[40]"
   ]
  },
  {
   "cell_type": "code",
   "execution_count": 161,
   "metadata": {},
   "outputs": [],
   "source": [
    "docs = pd.read_json(f'{data_dir}/docs.jsonl', lines=True)"
   ]
  },
  {
   "cell_type": "code",
   "execution_count": 179,
   "metadata": {},
   "outputs": [
    {
     "data": {
      "text/html": [
       "<div>\n",
       "<style scoped>\n",
       "    .dataframe tbody tr th:only-of-type {\n",
       "        vertical-align: middle;\n",
       "    }\n",
       "\n",
       "    .dataframe tbody tr th {\n",
       "        vertical-align: top;\n",
       "    }\n",
       "\n",
       "    .dataframe thead th {\n",
       "        text-align: right;\n",
       "    }\n",
       "</style>\n",
       "<table border=\"1\" class=\"dataframe\">\n",
       "  <thead>\n",
       "    <tr style=\"text-align: right;\">\n",
       "      <th></th>\n",
       "      <th>docid</th>\n",
       "      <th>document</th>\n",
       "    </tr>\n",
       "  </thead>\n",
       "  <tbody>\n",
       "    <tr>\n",
       "      <th>0</th>\n",
       "      <td>075e483d21c29a511267ef62bedc0461</td>\n",
       "      <td>The sanctions against the school were a punish...</td>\n",
       "    </tr>\n",
       "    <tr>\n",
       "      <th>1</th>\n",
       "      <td>61fe6e879ff18686d7552425a36344c8</td>\n",
       "      <td>Sammy wanted to go to where the people were . ...</td>\n",
       "    </tr>\n",
       "    <tr>\n",
       "      <th>2</th>\n",
       "      <td>4c1cb0e95b99f72d55c068ba0255c54d</td>\n",
       "      <td>To locate a choker not located in a jewelry bo...</td>\n",
       "    </tr>\n",
       "    <tr>\n",
       "      <th>3</th>\n",
       "      <td>02e821a3e53cb320790950aab4489e85</td>\n",
       "      <td>Google Maps and other highway and street GPS s...</td>\n",
       "    </tr>\n",
       "    <tr>\n",
       "      <th>4</th>\n",
       "      <td>23505889b94e880c3e89cff4ba119860</td>\n",
       "      <td>The fox walked from the city into the forest ,...</td>\n",
       "    </tr>\n",
       "    <tr>\n",
       "      <th>...</th>\n",
       "      <td>...</td>\n",
       "      <td>...</td>\n",
       "    </tr>\n",
       "    <tr>\n",
       "      <th>10912</th>\n",
       "      <td>6c84e79d0595efd99596faa07c4961d0</td>\n",
       "      <td>What would you do to a rock when climb up a cl...</td>\n",
       "    </tr>\n",
       "    <tr>\n",
       "      <th>10913</th>\n",
       "      <td>88f1fe6cfbcb1a25f25454341c789463</td>\n",
       "      <td>His compressor needed a new hose , where did h...</td>\n",
       "    </tr>\n",
       "    <tr>\n",
       "      <th>10914</th>\n",
       "      <td>5074bcaf0f700c9f3c8c563067af156a</td>\n",
       "      <td>The man closed his eyes as the music played , ...</td>\n",
       "    </tr>\n",
       "    <tr>\n",
       "      <th>10915</th>\n",
       "      <td>6a253e076cd2af00e17d9950d70daf47</td>\n",
       "      <td>Setting up framing , truss and beam are some o...</td>\n",
       "    </tr>\n",
       "    <tr>\n",
       "      <th>10916</th>\n",
       "      <td>5af7c7860e3be61d4cfd814cc109f9d9</td>\n",
       "      <td>What is another name for a disk for storing in...</td>\n",
       "    </tr>\n",
       "  </tbody>\n",
       "</table>\n",
       "<p>10917 rows × 2 columns</p>\n",
       "</div>"
      ],
      "text/plain": [
       "                                  docid  \\\n",
       "0      075e483d21c29a511267ef62bedc0461   \n",
       "1      61fe6e879ff18686d7552425a36344c8   \n",
       "2      4c1cb0e95b99f72d55c068ba0255c54d   \n",
       "3      02e821a3e53cb320790950aab4489e85   \n",
       "4      23505889b94e880c3e89cff4ba119860   \n",
       "...                                 ...   \n",
       "10912  6c84e79d0595efd99596faa07c4961d0   \n",
       "10913  88f1fe6cfbcb1a25f25454341c789463   \n",
       "10914  5074bcaf0f700c9f3c8c563067af156a   \n",
       "10915  6a253e076cd2af00e17d9950d70daf47   \n",
       "10916  5af7c7860e3be61d4cfd814cc109f9d9   \n",
       "\n",
       "                                                document  \n",
       "0      The sanctions against the school were a punish...  \n",
       "1      Sammy wanted to go to where the people were . ...  \n",
       "2      To locate a choker not located in a jewelry bo...  \n",
       "3      Google Maps and other highway and street GPS s...  \n",
       "4      The fox walked from the city into the forest ,...  \n",
       "...                                                  ...  \n",
       "10912  What would you do to a rock when climb up a cl...  \n",
       "10913  His compressor needed a new hose , where did h...  \n",
       "10914  The man closed his eyes as the music played , ...  \n",
       "10915  Setting up framing , truss and beam are some o...  \n",
       "10916  What is another name for a disk for storing in...  \n",
       "\n",
       "[10917 rows x 2 columns]"
      ]
     },
     "execution_count": 179,
     "metadata": {},
     "output_type": "execute_result"
    }
   ],
   "source": [
    "docs"
   ]
  },
  {
   "cell_type": "code",
   "execution_count": 190,
   "metadata": {},
   "outputs": [
    {
     "data": {
      "text/html": [
       "<div>\n",
       "<style scoped>\n",
       "    .dataframe tbody tr th:only-of-type {\n",
       "        vertical-align: middle;\n",
       "    }\n",
       "\n",
       "    .dataframe tbody tr th {\n",
       "        vertical-align: top;\n",
       "    }\n",
       "\n",
       "    .dataframe thead th {\n",
       "        text-align: right;\n",
       "    }\n",
       "</style>\n",
       "<table border=\"1\" class=\"dataframe\">\n",
       "  <thead>\n",
       "    <tr style=\"text-align: right;\">\n",
       "      <th></th>\n",
       "      <th>id</th>\n",
       "      <th>text</th>\n",
       "      <th>classification</th>\n",
       "      <th>rationale</th>\n",
       "    </tr>\n",
       "  </thead>\n",
       "  <tbody>\n",
       "    <tr>\n",
       "      <th>0</th>\n",
       "      <td>0</td>\n",
       "      <td>do iran and afghanistan speak the same languag...</td>\n",
       "      <td>True</td>\n",
       "      <td>[1, 1, 1, 1, 1, 1, 1, 1, 1, 1, 0, 0, 0, 0, 0, ...</td>\n",
       "    </tr>\n",
       "    <tr>\n",
       "      <th>1</th>\n",
       "      <td>1</td>\n",
       "      <td>do good samaritan laws protect those who help ...</td>\n",
       "      <td>True</td>\n",
       "      <td>[1, 1, 1, 1, 1, 1, 1, 1, 1, 1, 1, 1, 1, 0, 0, ...</td>\n",
       "    </tr>\n",
       "    <tr>\n",
       "      <th>2</th>\n",
       "      <td>2</td>\n",
       "      <td>is windows movie maker part of windows essenti...</td>\n",
       "      <td>True</td>\n",
       "      <td>[1, 1, 1, 1, 1, 1, 1, 1, 1, 0, 0, 0, 0, 0, 0, ...</td>\n",
       "    </tr>\n",
       "    <tr>\n",
       "      <th>3</th>\n",
       "      <td>3</td>\n",
       "      <td>is confectionary sugar the same as powdered su...</td>\n",
       "      <td>True</td>\n",
       "      <td>[1, 1, 1, 1, 1, 1, 1, 1, 1, 0, 0, 0, 0, 0, 0, ...</td>\n",
       "    </tr>\n",
       "    <tr>\n",
       "      <th>4</th>\n",
       "      <td>4</td>\n",
       "      <td>will there be a season 4 of da vinci's demons ...</td>\n",
       "      <td>False</td>\n",
       "      <td>[1, 1, 1, 1, 1, 1, 1, 1, 1, 1, 1, 1, 1, 1, 1, ...</td>\n",
       "    </tr>\n",
       "    <tr>\n",
       "      <th>...</th>\n",
       "      <td>...</td>\n",
       "      <td>...</td>\n",
       "      <td>...</td>\n",
       "      <td>...</td>\n",
       "    </tr>\n",
       "    <tr>\n",
       "      <th>6358</th>\n",
       "      <td>6358</td>\n",
       "      <td>does shorvori die in dil se dil tak [SEP] DIL ...</td>\n",
       "      <td>True</td>\n",
       "      <td>[1, 1, 1, 1, 1, 1, 1, 1, 1, 1, 1, 1, 1, 1, 1, ...</td>\n",
       "    </tr>\n",
       "    <tr>\n",
       "      <th>6359</th>\n",
       "      <td>6359</td>\n",
       "      <td>is a us district court a federal court [SEP] U...</td>\n",
       "      <td>True</td>\n",
       "      <td>[1, 1, 1, 1, 1, 1, 1, 1, 1, 1, 1, 0, 0, 0, 0, ...</td>\n",
       "    </tr>\n",
       "    <tr>\n",
       "      <th>6360</th>\n",
       "      <td>6360</td>\n",
       "      <td>can a tenant get a restraining order against a...</td>\n",
       "      <td>True</td>\n",
       "      <td>[1, 1, 1, 1, 1, 1, 1, 1, 1, 1, 1, 1, 1, 1, 1, ...</td>\n",
       "    </tr>\n",
       "    <tr>\n",
       "      <th>6361</th>\n",
       "      <td>6361</td>\n",
       "      <td>downton abbey will there be a season 7 [SEP] L...</td>\n",
       "      <td>False</td>\n",
       "      <td>[1, 1, 1, 1, 1, 1, 1, 1, 1, 1, 1, 1, 0, 0, 0, ...</td>\n",
       "    </tr>\n",
       "    <tr>\n",
       "      <th>6362</th>\n",
       "      <td>6362</td>\n",
       "      <td>is margin of error the same as confidence inte...</td>\n",
       "      <td>False</td>\n",
       "      <td>[1, 1, 1, 1, 1, 1, 1, 1, 1, 1, 1, 1, 1, 1, 1, ...</td>\n",
       "    </tr>\n",
       "  </tbody>\n",
       "</table>\n",
       "<p>6363 rows × 4 columns</p>\n",
       "</div>"
      ],
      "text/plain": [
       "        id                                               text  classification  \\\n",
       "0        0  do iran and afghanistan speak the same languag...            True   \n",
       "1        1  do good samaritan laws protect those who help ...            True   \n",
       "2        2  is windows movie maker part of windows essenti...            True   \n",
       "3        3  is confectionary sugar the same as powdered su...            True   \n",
       "4        4  will there be a season 4 of da vinci's demons ...           False   \n",
       "...    ...                                                ...             ...   \n",
       "6358  6358  does shorvori die in dil se dil tak [SEP] DIL ...            True   \n",
       "6359  6359  is a us district court a federal court [SEP] U...            True   \n",
       "6360  6360  can a tenant get a restraining order against a...            True   \n",
       "6361  6361  downton abbey will there be a season 7 [SEP] L...           False   \n",
       "6362  6362  is margin of error the same as confidence inte...           False   \n",
       "\n",
       "                                              rationale  \n",
       "0     [1, 1, 1, 1, 1, 1, 1, 1, 1, 1, 0, 0, 0, 0, 0, ...  \n",
       "1     [1, 1, 1, 1, 1, 1, 1, 1, 1, 1, 1, 1, 1, 0, 0, ...  \n",
       "2     [1, 1, 1, 1, 1, 1, 1, 1, 1, 0, 0, 0, 0, 0, 0, ...  \n",
       "3     [1, 1, 1, 1, 1, 1, 1, 1, 1, 0, 0, 0, 0, 0, 0, ...  \n",
       "4     [1, 1, 1, 1, 1, 1, 1, 1, 1, 1, 1, 1, 1, 1, 1, ...  \n",
       "...                                                 ...  \n",
       "6358  [1, 1, 1, 1, 1, 1, 1, 1, 1, 1, 1, 1, 1, 1, 1, ...  \n",
       "6359  [1, 1, 1, 1, 1, 1, 1, 1, 1, 1, 1, 0, 0, 0, 0, ...  \n",
       "6360  [1, 1, 1, 1, 1, 1, 1, 1, 1, 1, 1, 1, 1, 1, 1, ...  \n",
       "6361  [1, 1, 1, 1, 1, 1, 1, 1, 1, 1, 1, 1, 0, 0, 0, ...  \n",
       "6362  [1, 1, 1, 1, 1, 1, 1, 1, 1, 1, 1, 1, 1, 1, 1, ...  \n",
       "\n",
       "[6363 rows x 4 columns]"
      ]
     },
     "execution_count": 190,
     "metadata": {},
     "output_type": "execute_result"
    }
   ],
   "source": []
  }
 ],
 "metadata": {
  "kernelspec": {
   "display_name": "Python 3",
   "language": "python",
   "name": "python3"
  },
  "language_info": {
   "codemirror_mode": {
    "name": "ipython",
    "version": 3
   },
   "file_extension": ".py",
   "mimetype": "text/x-python",
   "name": "python",
   "nbconvert_exporter": "python",
   "pygments_lexer": "ipython3",
   "version": "3.8.3"
  }
 },
 "nbformat": 4,
 "nbformat_minor": 4
}
